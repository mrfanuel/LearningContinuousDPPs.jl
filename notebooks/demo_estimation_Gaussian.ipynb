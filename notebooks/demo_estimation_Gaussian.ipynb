{
 "cells": [
  {
   "cell_type": "code",
   "execution_count": 7,
   "source": [
    "include(\"../algo/estimate_B_from_samples.jl\")\n",
    "include(\"../algo/kernels.jl\")\n",
    "include(\"../algo/regularized_Picard.jl\")"
   ],
   "outputs": [
    {
     "output_type": "execute_result",
     "data": {
      "text/plain": [
       "0.0"
      ]
     },
     "metadata": {},
     "execution_count": 7
    }
   ],
   "metadata": {}
  },
  {
   "cell_type": "code",
   "execution_count": null,
   "source": [],
   "outputs": [],
   "metadata": {}
  },
  {
   "cell_type": "code",
   "execution_count": null,
   "source": [
    "FredholmSample = rand(Uniform(0,1), n,2);\n",
    "B, R , k, totalSamples, obj, i_stop = estimate_B_from_samples(s,n,sigma,lambda,epsilon,it_max,tol,FredholmSample)"
   ],
   "outputs": [],
   "metadata": {}
  },
  {
   "cell_type": "code",
   "execution_count": null,
   "source": [
    "n_test = 30*30; a = 0.; b = 1.;\n",
    "testSamples = constructFlatSquareGrid(n_test, a, b);\n",
    "GramA = likelihoodKernelGram(B,R,totalSamples,testSamples,k,sigma);"
   ],
   "outputs": [],
   "metadata": {}
  },
  {
   "cell_type": "code",
   "execution_count": null,
   "source": [
    "c_1 = 0.; c_2 = 1.;\n",
    "unifSamples = rand(Uniform(c_1,c_2), p,2);\n",
    "GramK = correlationKernelGram(B,R,unifSamples,totalSamples,testSamples,k,sigma);"
   ],
   "outputs": [],
   "metadata": {}
  },
  {
   "cell_type": "code",
   "execution_count": null,
   "source": [
    "using JDL\n",
    "filename = \"results/result_s=\"*string(Int64(s))*\"_n=\"*string(Int64(n))*\"_p=\"*string(Int64(p))*\"_sigma=\"*string(Int64(1000*sigma))*\"_lambda=\"*string(Int64(1000000*lambda))*\"divideBy1Million_tol=\"*string(Int64(1e6*tol))*\".jld\";\n",
    "\n",
    "save(filename, \"B\",B, \"R\",R, \"n\",n, \"totalSamples\",totalSamples, \"GramK\",GramK, \"GramA\",GramA, \"GramK0\",GramK0, \"GramA0\",GramA0, \"obj\",obj, \"i_stop\",i_stop);"
   ],
   "outputs": [],
   "metadata": {}
  },
  {
   "cell_type": "code",
   "execution_count": null,
   "source": [],
   "outputs": [],
   "metadata": {}
  }
 ],
 "metadata": {
  "orig_nbformat": 4,
  "language_info": {
   "name": "julia",
   "version": "1.5.3",
   "mimetype": "application/julia",
   "file_extension": ".jl"
  },
  "kernelspec": {
   "display_name": "Julia 1.5.3",
   "language": "julia",
   "name": "julia-1.5"
  },
  "interpreter": {
   "hash": "3eb8fd0b4f8b0f820940f3d65f80ccb5ad42b9879617df39fa7dbf5302244cdd"
  }
 },
 "nbformat": 4,
 "nbformat_minor": 2
}