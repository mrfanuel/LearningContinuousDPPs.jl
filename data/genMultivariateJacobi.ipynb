{
 "metadata": {
  "language_info": {
   "codemirror_mode": {
    "name": "ipython",
    "version": 3
   },
   "file_extension": ".py",
   "mimetype": "text/x-python",
   "name": "python",
   "nbconvert_exporter": "python",
   "pygments_lexer": "ipython3",
   "version": "3.8.5"
  },
  "orig_nbformat": 2,
  "kernelspec": {
   "name": "python385jvsc74a57bd0b2113da89871aaf9ffe29a54100556e7a811c4a800aac9c6b5fd30781bb5a1db",
   "display_name": "Python 3.8.5 64-bit ('base': conda)"
  }
 },
 "nbformat": 4,
 "nbformat_minor": 2,
 "cells": [
  {
   "cell_type": "code",
   "execution_count": 2,
   "metadata": {},
   "outputs": [],
   "source": [
    "# generates samples to estimate the dpp\n",
    "import numpy as np\n",
    "import matplotlib.pyplot as plt\n",
    "from dppy.multivariate_jacobi_ope import MultivariateJacobiOPE\n",
    "\n",
    "# The .plot() method outputs smtg only in dimension d=1 or 2\n",
    "\n",
    "# Number of points / dimension\n",
    "N, d = 50, 2\n",
    "# Jacobi parameters in [-0.5, 0.5]^{d x 2}\n",
    "jac_params = np.array([[0.5, 0.5],\n",
    "                       [-0.3, 0.4]])\n",
    "\n",
    "dpp = MultivariateJacobiOPE(N, jac_params)\n",
    "\n",
    "number_samples = 10\n",
    "# puts the samples as columns of matrix\n",
    "for x in range(0, number_samples):\n",
    "    # Get an exact sample\n",
    "    sampl = dpp.sample()\n",
    "    np.savetxt(\"sample\"+str(x)+\".csv\", sampl, delimiter=\",\")\n"
   ]
  },
  {
   "cell_type": "code",
   "execution_count": null,
   "metadata": {},
   "outputs": [],
   "source": []
  }
 ]
}