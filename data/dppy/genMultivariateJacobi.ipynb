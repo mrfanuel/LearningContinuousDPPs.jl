{
 "cells": [
  {
   "cell_type": "code",
   "execution_count": null,
   "metadata": {},
   "outputs": [],
   "source": [
    "# generates samples to estimate the dpp\n",
    "import numpy as np\n",
    "import matplotlib.pyplot as plt\n",
    "from dppy.multivariate_jacobi_ope import MultivariateJacobiOPE\n",
    "\n",
    "# The .plot() method outputs smtg only in dimension d=1 or 2\n",
    "\n",
    "# Number of points / dimension\n",
    "N, d = 50, 2\n",
    "# Jacobi parameters in [-0.5, 0.5]^{d x 2}\n",
    "jac_params = np.array([[0.5, 0.5],\n",
    "                       [0.5, 0.5]])\n",
    "\n",
    "dpp = MultivariateJacobiOPE(N, jac_params)\n",
    "\n",
    "number_samples = 10\n",
    "# puts the samples as columns of matrix\n",
    "for x in range(0, number_samples):\n",
    "    # Get an exact sample\n",
    "    sampl = dpp.sample()\n",
    "    np.savetxt(\"samples/MultivariateJacobiOPE_sample\"+str(x)+\".csv\", sampl, delimiter=\",\")"
   ]
  },
  {
   "cell_type": "code",
   "execution_count": null,
   "metadata": {},
   "outputs": [],
   "source": [
    "# Generate Gram matrix of kernel\n",
    "\n",
    "# Number of points / dimension\n",
    "N, d = 50, 2\n",
    "# Jacobi parameters in [-0.5, 0.5]^{d x 2}\n",
    "jac_params = np.array([[0.5, 0.5],\n",
    "                       [0.5, 0.5]])\n",
    "\n",
    "dpp = MultivariateJacobiOPE(N, jac_params)\n",
    "\n",
    "# construct a grid with n_step x n_step points in [-1+eps,1-eps]^2\n",
    "n_step =  10\n",
    "X = np.zeros(shape=(n_step*n_step,2))\n",
    "t = 0\n",
    "eps = 0.1\n",
    "for i in range(n_step):\n",
    "    for j in range(n_step):\n",
    "        x = (-1+eps) + (2-2*eps)*(i)/(n_step-1)\n",
    "        y = (-1+eps) + (2-2*eps)*(j)/(n_step-1)\n",
    "        newrow = [x, y]\n",
    "        X[t,:] =  newrow\n",
    "        t = t + 1\n",
    "# matrix de Gram de K_N        \n",
    "GramMatrix = MultivariateJacobiOPE.K(dpp,X=X,Y=X.copy(), eval_pointwise=False)\n",
    "\n",
    "# computing weights (from the measure mu)\n",
    "w = MultivariateJacobiOPE.eval_w(dpp, X=X)\n",
    "\n",
    "## INTENSITY:\n",
    "intensity = 1./N * np.multiply(np.diagonal(GramMatrix), w)\n",
    "plt.imshow(intensity.reshape((n_step,n_step)))\n",
    "plt.colorbar()\n",
    "plt.show()"
   ]
  },
  {
   "cell_type": "code",
   "execution_count": null,
   "metadata": {},
   "outputs": [],
   "source": [
    "scaledGramMatrix = 1./N * np.sqrt(np.diag(w)) @ GramMatrix @ np.sqrt(np.diag(w))"
   ]
  },
  {
   "cell_type": "code",
   "execution_count": null,
   "metadata": {},
   "outputs": [],
   "source": [
    "plt.imshow(scaledGramMatrix, cmap='coolwarm', interpolation='nearest')\n",
    "plt.colorbar()\n",
    "plt.show()"
   ]
  },
  {
   "cell_type": "code",
   "execution_count": null,
   "metadata": {},
   "outputs": [],
   "source": [
    "np.savetxt(\"samples/scaledGramMatrix\"+str(n_step)+\"x\"+str(n_step)+\".csv\", scaledGramMatrix, delimiter=\",\")"
   ]
  },
  {
   "cell_type": "code",
   "execution_count": null,
   "metadata": {},
   "outputs": [],
   "source": [
    "scaledGramMatrix"
   ]
  },
  {
   "cell_type": "code",
   "execution_count": null,
   "metadata": {},
   "outputs": [],
   "source": []
  }
 ],
 "metadata": {
  "kernelspec": {
   "name": "python385jvsc74a57bd0b2113da89871aaf9ffe29a54100556e7a811c4a800aac9c6b5fd30781bb5a1db",
   "display_name": "Python 3.8.5 64-bit ('base': conda)"
  },
  "language_info": {
   "codemirror_mode": {
    "name": "ipython",
    "version": 3
   },
   "file_extension": ".py",
   "mimetype": "text/x-python",
   "name": "python",
   "nbconvert_exporter": "python",
   "pygments_lexer": "ipython3",
   "version": "3.8.5"
  }
 },
 "nbformat": 4,
 "nbformat_minor": 2
}